{
 "cells": [
  {
   "cell_type": "markdown",
   "id": "9160f09d",
   "metadata": {},
   "source": [
    "# Import Required Libraries:"
   ]
  },
  {
   "cell_type": "code",
   "execution_count": 1,
   "id": "a8a4b75e",
   "metadata": {},
   "outputs": [],
   "source": [
    "import pandas as pd\n",
    "import numpy as np\n",
    "import warnings\n",
    "warnings.filterwarnings(\"ignore\")"
   ]
  },
  {
   "cell_type": "code",
   "execution_count": 2,
   "id": "af982338",
   "metadata": {},
   "outputs": [],
   "source": [
    "def read_data_from_csv():\n",
    "    hotels=pd.read_csv('C:/Users/thiru/Downloads/zomato (1).csv')\n",
    "    return hotels"
   ]
  },
  {
   "cell_type": "markdown",
   "id": "eb7e5c68",
   "metadata": {},
   "source": [
    "# Task1:"
   ]
  },
  {
   "cell_type": "code",
   "execution_count": 3,
   "id": "22b04288",
   "metadata": {},
   "outputs": [],
   "source": [
    "def remove_unwanted_columns():\n",
    "    #DO NOT REMOVE FOLLOWING LINE\n",
    "    #call read_data_from_csv() function to get dataframe\n",
    "    hotels=read_data_from_csv()\n",
    "\n",
    "    unwanted_columns = ['address','phone',]\n",
    "    hotels = hotels.drop(unwanted_columns,axis = 1)\n",
    "    \n",
    "    return hotels\n"
   ]
  },
  {
   "cell_type": "markdown",
   "id": "c7574fe2",
   "metadata": {},
   "source": [
    "# Task2"
   ]
  },
  {
   "cell_type": "code",
   "execution_count": 4,
   "id": "43a44f9a",
   "metadata": {},
   "outputs": [],
   "source": [
    "def rename_columns():\n",
    "    hotels = remove_unwanted_columns()\n",
    "    column_names = {\n",
    "        'name':'name', \n",
    "        'online_order':'online_order',\n",
    "        'book_table':'book_table',\n",
    "        'rate':'rating',\n",
    "        'votes':'votes',\n",
    "        'location':'location',\n",
    "        'rest_type':'rest_type',\n",
    "        'dish_liked':'dish_liked',\n",
    "        'cuisines':'cuisines',\n",
    "        'approx_cost(for two people)':'approx_cost',\n",
    "        'listed_in(type)':'type'}\n",
    "\n",
    "    hotels = hotels.rename(columns=column_names)\n",
    "    return hotels\n",
    "\n",
    "    "
   ]
  },
  {
   "cell_type": "code",
   "execution_count": 5,
   "id": "321d8055",
   "metadata": {},
   "outputs": [
    {
     "data": {
      "text/plain": [
       "name               16\n",
       "online_order       19\n",
       "book_table         58\n",
       "rating           7838\n",
       "votes              78\n",
       "location          126\n",
       "rest_type         338\n",
       "dish_liked      28225\n",
       "cuisines          203\n",
       "approx_cost       521\n",
       "type             4610\n",
       "dtype: int64"
      ]
     },
     "execution_count": 5,
     "metadata": {},
     "output_type": "execute_result"
    }
   ],
   "source": [
    "rename_columns().isna().sum()"
   ]
  },
  {
   "cell_type": "markdown",
   "id": "931e61d2",
   "metadata": {},
   "source": [
    "# Task 3"
   ]
  },
  {
   "cell_type": "code",
   "execution_count": 6,
   "id": "e599708d",
   "metadata": {},
   "outputs": [],
   "source": [
    "#task3: handle  null values of each column\n",
    "def null_value_check():\n",
    "    hotels = rename_columns()\n",
    "\n",
    "    # drop null values in the 'Name' column\n",
    "    hotels = hotels.dropna(subset=['name'])\n",
    "\n",
    "    # replace null values of Online_order with 'NA'\n",
    "    hotels['online_order'] = hotels['online_order'].fillna('NA')\n",
    "\n",
    "    # replace null values of Book_table with 'NA'\n",
    "    hotels['book_table'] = hotels['book_table'].fillna('NA')\n",
    "\n",
    "    # replace null values of Rating with 0\n",
    "    hotels['rating'] = hotels['rating'].fillna(0)\n",
    "\n",
    "    # replace null values of Votes with 0\n",
    "    hotels['votes'] = hotels['votes'].fillna(0)\n",
    "\n",
    "    # replace null values of Location with 'NA'\n",
    "    hotels['location'] = hotels['location'].fillna('NA')\n",
    "\n",
    "    # replace null values of Rest_type with 'NA'\n",
    "    hotels['rest_type'] = hotels['rest_type'].fillna('NA')\n",
    "\n",
    "    # replace null values of Dish_liked with 'NA'\n",
    "    hotels['dish_liked'] = hotels['dish_liked'].fillna('NA')\n",
    "\n",
    "    # replace null values of Cuisines with 'NA'\n",
    "    hotels['cuisines'] = hotels['cuisines'].fillna('NA')\n",
    "\n",
    "    # replace null values of Approx_cost with 0\n",
    "    hotels['approx_cost'] = hotels['approx_cost'].fillna(0)\n",
    "\n",
    "    # replace null values of Type with 'NA'\n",
    "    hotels['type'] = hotels['type'].fillna('NA')\n",
    "\n",
    "    return hotels"
   ]
  },
  {
   "cell_type": "markdown",
   "id": "d8b186f4",
   "metadata": {},
   "source": [
    "# Task4"
   ]
  },
  {
   "cell_type": "code",
   "execution_count": 7,
   "id": "838174c9",
   "metadata": {},
   "outputs": [
    {
     "name": "stdout",
     "output_type": "stream",
     "text": [
      "the number of duplicated values is17823\n"
     ]
    }
   ],
   "source": [
    "x = null_value_check().duplicated().sum()\n",
    "print(\"the number of duplicated values is{}\".format(x))"
   ]
  },
  {
   "cell_type": "code",
   "execution_count": 8,
   "id": "f2f1b077",
   "metadata": {},
   "outputs": [],
   "source": [
    "def find_duplicates():\n",
    "    hotels=null_value_check()\n",
    "    hotels = hotels.drop_duplicates(keep = 'first')\n",
    "    return hotels"
   ]
  },
  {
   "cell_type": "code",
   "execution_count": 9,
   "id": "8e190fe9",
   "metadata": {},
   "outputs": [
    {
     "name": "stdout",
     "output_type": "stream",
     "text": [
      "the number of duplicated values is 0\n"
     ]
    }
   ],
   "source": [
    "y = find_duplicates().duplicated().sum()\n",
    "print(\"the number of duplicated values is {}\".format(y))"
   ]
  },
  {
   "cell_type": "markdown",
   "id": "2cdc8b19",
   "metadata": {},
   "source": [
    "# Task5"
   ]
  },
  {
   "cell_type": "code",
   "execution_count": 10,
   "id": "331ba187",
   "metadata": {},
   "outputs": [],
   "source": [
    "def removing_irrelevant_text():\n",
    "    #DO NOT REMOVE FOLLOWING LINE\n",
    "    #call find_duplicates() function to get dataframe\n",
    "    hotels = find_duplicates()\n",
    "\n",
    "    hotels = hotels[hotels['name'].str.contains(\"RATED|Rated\") == False]\n",
    "    hotels = hotels[hotels['online_order'].str.contains(\"RATED|Rated\") == False]\n",
    "    hotels = hotels[hotels['book_table'].str.contains(\"RATED|Rated\") == False]\n",
    "    hotels = hotels[hotels['rating'].str.contains(\"RATED|Rated\") == False]\n",
    "    hotels = hotels[hotels['votes'].str.contains(\"RATED|Rated\") == False]\n",
    "    hotels = hotels[hotels['location'].str.contains(\"RATED|Rated\") == False]\n",
    "    hotels = hotels[hotels['rest_type'].str.contains(\"RATED|Rated\") == False]\n",
    "    hotels = hotels[hotels['dish_liked'].str.contains(\"RATED|Rated\") == False]\n",
    "    hotels = hotels[hotels['cuisines'].str.contains(\"RATED|Rated\") == False]\n",
    "    hotels = hotels[hotels['approx_cost'].str.contains(\"RATED|Rated\") == False]\n",
    "    hotels = hotels[hotels['type'].str.contains(\"RATED|Rated\") == False]\n",
    "\n",
    "    return hotels\n"
   ]
  },
  {
   "cell_type": "markdown",
   "id": "41c6f82d",
   "metadata": {},
   "source": [
    "# Task6"
   ]
  },
  {
   "cell_type": "code",
   "execution_count": 11,
   "id": "a900ce8a",
   "metadata": {},
   "outputs": [],
   "source": [
    "def check_for_unique_values():\n",
    "    # DO NOT REMOVE FOLLOWING LINE\n",
    "    # call removing_irrelevant_text() function to get dataframe\n",
    "    hotels = removing_irrelevant_text()\n",
    "    \n",
    "    index = hotels[~hotels['online_order'].isin(['No', 'Yes'])].index\n",
    "    hotels.drop(index, inplace = True)\n",
    "    hotels['rating'] = hotels['rating'].replace({'/5': ''}, regex = True).replace('-', 0).replace('NEW', 0)\n",
    "    \n",
    "    return hotels   "
   ]
  },
  {
   "cell_type": "markdown",
   "id": "01aaf077",
   "metadata": {},
   "source": [
    "# Task7"
   ]
  },
  {
   "cell_type": "code",
   "execution_count": 12,
   "id": "e36dacff",
   "metadata": {},
   "outputs": [],
   "source": [
    "def remove_the_unknown_character():\n",
    "    # call check_for_unique_values() function to get dataframe\n",
    "    dataframe = check_for_unique_values()\n",
    "\n",
    "    # remove unknown character from 'name' column\n",
    "    dataframe['name'] = dataframe['name'].str.replace('[Ãx][^A-Za-z]+', '')\n",
    "\n",
    "    # export cleaned dataset to new csv file named \"zomatocleaned.csv\"\n",
    "    dataframe.to_csv('zomatocleaned.csv', index=False)\n",
    "\n",
    "    return dataframe\n"
   ]
  },
  {
   "cell_type": "code",
   "execution_count": null,
   "id": "62406552",
   "metadata": {},
   "outputs": [],
   "source": []
  },
  {
   "cell_type": "code",
   "execution_count": null,
   "id": "2c5c86a1",
   "metadata": {},
   "outputs": [],
   "source": []
  },
  {
   "cell_type": "code",
   "execution_count": null,
   "id": "b3bed130",
   "metadata": {},
   "outputs": [],
   "source": []
  },
  {
   "cell_type": "code",
   "execution_count": null,
   "id": "ada76706",
   "metadata": {},
   "outputs": [],
   "source": []
  }
 ],
 "metadata": {
  "kernelspec": {
   "display_name": "Python 3 (ipykernel)",
   "language": "python",
   "name": "python3"
  },
  "language_info": {
   "codemirror_mode": {
    "name": "ipython",
    "version": 3
   },
   "file_extension": ".py",
   "mimetype": "text/x-python",
   "name": "python",
   "nbconvert_exporter": "python",
   "pygments_lexer": "ipython3",
   "version": "3.10.9"
  }
 },
 "nbformat": 4,
 "nbformat_minor": 5
}
